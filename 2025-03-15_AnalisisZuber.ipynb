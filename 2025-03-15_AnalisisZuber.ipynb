{
 "cells": [
  {
   "cell_type": "markdown",
   "metadata": {},
   "source": [
    "# Análisis de los viajes de plataforma \"Zuber\"."
   ]
  },
  {
   "cell_type": "code",
   "execution_count": 1,
   "metadata": {},
   "outputs": [],
   "source": [
    "# Iniciamos importando las librerías con las que trabajaremos:\n",
    "import pandas as pd\n",
    "from scipy import stats as st\n",
    "from matplotlib import pyplot as plt"
   ]
  },
  {
   "cell_type": "code",
   "execution_count": 2,
   "metadata": {},
   "outputs": [],
   "source": [
    "# Pasamos los archivos CSV a DFs:\n",
    "arch_r1 = \"moved_project_sql_result_01.csv\"\n",
    "arch_r4 = \"moved_project_sql_result_04.csv\"\n",
    "arch_r7 = \"moved_project_sql_result_07.csv\""
   ]
  },
  {
   "cell_type": "code",
   "execution_count": 3,
   "metadata": {},
   "outputs": [
    {
     "data": {
      "text/html": [
       "<div>\n",
       "<style scoped>\n",
       "    .dataframe tbody tr th:only-of-type {\n",
       "        vertical-align: middle;\n",
       "    }\n",
       "\n",
       "    .dataframe tbody tr th {\n",
       "        vertical-align: top;\n",
       "    }\n",
       "\n",
       "    .dataframe thead th {\n",
       "        text-align: right;\n",
       "    }\n",
       "</style>\n",
       "<table border=\"1\" class=\"dataframe\">\n",
       "  <thead>\n",
       "    <tr style=\"text-align: right;\">\n",
       "      <th></th>\n",
       "      <th>company_name</th>\n",
       "      <th>trips_amount</th>\n",
       "    </tr>\n",
       "  </thead>\n",
       "  <tbody>\n",
       "    <tr>\n",
       "      <th>27</th>\n",
       "      <td>Service Taxi Association</td>\n",
       "      <td>402</td>\n",
       "    </tr>\n",
       "    <tr>\n",
       "      <th>12</th>\n",
       "      <td>Dispatch Taxi Affiliation</td>\n",
       "      <td>3355</td>\n",
       "    </tr>\n",
       "    <tr>\n",
       "      <th>59</th>\n",
       "      <td>4053 - 40193 Adwar H. Nikola</td>\n",
       "      <td>7</td>\n",
       "    </tr>\n",
       "    <tr>\n",
       "      <th>20</th>\n",
       "      <td>Checker Taxi</td>\n",
       "      <td>1486</td>\n",
       "    </tr>\n",
       "    <tr>\n",
       "      <th>37</th>\n",
       "      <td>1469 - 64126 Omar Jada</td>\n",
       "      <td>36</td>\n",
       "    </tr>\n",
       "  </tbody>\n",
       "</table>\n",
       "</div>"
      ],
      "text/plain": [
       "                    company_name  trips_amount\n",
       "27      Service Taxi Association           402\n",
       "12     Dispatch Taxi Affiliation          3355\n",
       "59  4053 - 40193 Adwar H. Nikola             7\n",
       "20                  Checker Taxi          1486\n",
       "37        1469 - 64126 Omar Jada            36"
      ]
     },
     "execution_count": 3,
     "metadata": {},
     "output_type": "execute_result"
    }
   ],
   "source": [
    "# Resultado 01:\n",
    "df_r1 = pd.read_csv(arch_r1)\n",
    "\n",
    "df_r1.sample(5)"
   ]
  },
  {
   "cell_type": "code",
   "execution_count": 4,
   "metadata": {},
   "outputs": [
    {
     "data": {
      "text/html": [
       "<div>\n",
       "<style scoped>\n",
       "    .dataframe tbody tr th:only-of-type {\n",
       "        vertical-align: middle;\n",
       "    }\n",
       "\n",
       "    .dataframe tbody tr th {\n",
       "        vertical-align: top;\n",
       "    }\n",
       "\n",
       "    .dataframe thead th {\n",
       "        text-align: right;\n",
       "    }\n",
       "</style>\n",
       "<table border=\"1\" class=\"dataframe\">\n",
       "  <thead>\n",
       "    <tr style=\"text-align: right;\">\n",
       "      <th></th>\n",
       "      <th>dropoff_location_name</th>\n",
       "      <th>average_trips</th>\n",
       "    </tr>\n",
       "  </thead>\n",
       "  <tbody>\n",
       "    <tr>\n",
       "      <th>23</th>\n",
       "      <td>Rogers Park</td>\n",
       "      <td>299.033333</td>\n",
       "    </tr>\n",
       "    <tr>\n",
       "      <th>86</th>\n",
       "      <td>West Elsdon</td>\n",
       "      <td>5.666667</td>\n",
       "    </tr>\n",
       "    <tr>\n",
       "      <th>13</th>\n",
       "      <td>Uptown</td>\n",
       "      <td>849.666667</td>\n",
       "    </tr>\n",
       "    <tr>\n",
       "      <th>92</th>\n",
       "      <td>East Side</td>\n",
       "      <td>1.961538</td>\n",
       "    </tr>\n",
       "    <tr>\n",
       "      <th>67</th>\n",
       "      <td>Auburn Gresham</td>\n",
       "      <td>15.166667</td>\n",
       "    </tr>\n",
       "  </tbody>\n",
       "</table>\n",
       "</div>"
      ],
      "text/plain": [
       "   dropoff_location_name  average_trips\n",
       "23           Rogers Park     299.033333\n",
       "86           West Elsdon       5.666667\n",
       "13                Uptown     849.666667\n",
       "92             East Side       1.961538\n",
       "67        Auburn Gresham      15.166667"
      ]
     },
     "execution_count": 4,
     "metadata": {},
     "output_type": "execute_result"
    }
   ],
   "source": [
    "# Resultado 04:\n",
    "df_r4 = pd.read_csv(arch_r4)\n",
    "\n",
    "df_r4.sample(5)"
   ]
  },
  {
   "cell_type": "code",
   "execution_count": 5,
   "metadata": {},
   "outputs": [
    {
     "data": {
      "text/html": [
       "<div>\n",
       "<style scoped>\n",
       "    .dataframe tbody tr th:only-of-type {\n",
       "        vertical-align: middle;\n",
       "    }\n",
       "\n",
       "    .dataframe tbody tr th {\n",
       "        vertical-align: top;\n",
       "    }\n",
       "\n",
       "    .dataframe thead th {\n",
       "        text-align: right;\n",
       "    }\n",
       "</style>\n",
       "<table border=\"1\" class=\"dataframe\">\n",
       "  <thead>\n",
       "    <tr style=\"text-align: right;\">\n",
       "      <th></th>\n",
       "      <th>start_ts</th>\n",
       "      <th>weather_conditions</th>\n",
       "      <th>duration_seconds</th>\n",
       "    </tr>\n",
       "  </thead>\n",
       "  <tbody>\n",
       "    <tr>\n",
       "      <th>831</th>\n",
       "      <td>2017-11-25 11:00:00</td>\n",
       "      <td>Good</td>\n",
       "      <td>1680.0</td>\n",
       "    </tr>\n",
       "    <tr>\n",
       "      <th>181</th>\n",
       "      <td>2017-11-18 19:00:00</td>\n",
       "      <td>Good</td>\n",
       "      <td>1860.0</td>\n",
       "    </tr>\n",
       "    <tr>\n",
       "      <th>440</th>\n",
       "      <td>2017-11-11 08:00:00</td>\n",
       "      <td>Good</td>\n",
       "      <td>1380.0</td>\n",
       "    </tr>\n",
       "    <tr>\n",
       "      <th>211</th>\n",
       "      <td>2017-11-18 14:00:00</td>\n",
       "      <td>Good</td>\n",
       "      <td>3660.0</td>\n",
       "    </tr>\n",
       "    <tr>\n",
       "      <th>565</th>\n",
       "      <td>2017-11-04 04:00:00</td>\n",
       "      <td>Good</td>\n",
       "      <td>1440.0</td>\n",
       "    </tr>\n",
       "  </tbody>\n",
       "</table>\n",
       "</div>"
      ],
      "text/plain": [
       "                start_ts weather_conditions  duration_seconds\n",
       "831  2017-11-25 11:00:00               Good            1680.0\n",
       "181  2017-11-18 19:00:00               Good            1860.0\n",
       "440  2017-11-11 08:00:00               Good            1380.0\n",
       "211  2017-11-18 14:00:00               Good            3660.0\n",
       "565  2017-11-04 04:00:00               Good            1440.0"
      ]
     },
     "execution_count": 5,
     "metadata": {},
     "output_type": "execute_result"
    }
   ],
   "source": [
    "# Resultado 07:\n",
    "df_r7 = pd.read_csv(arch_r7)\n",
    "\n",
    "df_r7.sample(5)"
   ]
  },
  {
   "cell_type": "markdown",
   "metadata": {},
   "source": [
    "## Paso 4: Análisis exploratorio de la información obtenida mediante Queries en SQL:"
   ]
  },
  {
   "cell_type": "markdown",
   "metadata": {},
   "source": [
    "Para los DF de Resultados 01 y 04:\n",
    "\n",
    "1) Estudiaremos los datos que contienen.\n",
    "2) Nos aseguraremos de que los tipos de datos sean correctos.\n",
    "3) Identificaremos los 10 principales barrios en términos de finalización del recorrido.\n",
    "4) Vamos a hacer gráficos: empresas de taxis y número de viajes, los 10 barrios principales por número de finalizaciones."
   ]
  },
  {
   "cell_type": "markdown",
   "metadata": {},
   "source": [
    "Por último, obtendremos conclusiones a partir de las actividades descritas."
   ]
  },
  {
   "cell_type": "markdown",
   "metadata": {},
   "source": [
    "### Resultados 01: Viajes de taxi por compañía:"
   ]
  },
  {
   "cell_type": "code",
   "execution_count": 9,
   "metadata": {},
   "outputs": [
    {
     "name": "stdout",
     "output_type": "stream",
     "text": [
      "<class 'pandas.core.frame.DataFrame'>\n",
      "RangeIndex: 64 entries, 0 to 63\n",
      "Data columns (total 2 columns):\n",
      " #   Column        Non-Null Count  Dtype \n",
      "---  ------        --------------  ----- \n",
      " 0   company_name  64 non-null     object\n",
      " 1   trips_amount  64 non-null     int64 \n",
      "dtypes: int64(1), object(1)\n",
      "memory usage: 1.1+ KB\n",
      "None\n"
     ]
    }
   ],
   "source": [
    "# Comenzamos revisando el DF, ya hemos hecho una previsualización antes:\n",
    "print(df_r1.info())"
   ]
  },
  {
   "cell_type": "code",
   "execution_count": 27,
   "metadata": {},
   "outputs": [
    {
     "name": "stdout",
     "output_type": "stream",
     "text": [
      "Se tienen 0 registros duplicados.\n",
      "Hay 64 compañías de taxis.\n",
      "En total se realizaron 137311 viajes de taxi entre todas las compañías.\n"
     ]
    }
   ],
   "source": [
    "# Buscamos registros duplicados:\n",
    "print(\"Se tienen\",df_r1.duplicated().sum(),\"registros duplicados.\")\n",
    "print(\"Hay\",df_r1['company_name'].nunique(),\"compañías de taxis.\")\n",
    "print(\"En total se realizaron\",df_r1['trips_amount'].sum(),\"viajes de taxi entre todas las compañías.\")"
   ]
  },
  {
   "cell_type": "code",
   "execution_count": 29,
   "metadata": {},
   "outputs": [
    {
     "data": {
      "text/html": [
       "<div>\n",
       "<style scoped>\n",
       "    .dataframe tbody tr th:only-of-type {\n",
       "        vertical-align: middle;\n",
       "    }\n",
       "\n",
       "    .dataframe tbody tr th {\n",
       "        vertical-align: top;\n",
       "    }\n",
       "\n",
       "    .dataframe thead th {\n",
       "        text-align: right;\n",
       "    }\n",
       "</style>\n",
       "<table border=\"1\" class=\"dataframe\">\n",
       "  <thead>\n",
       "    <tr style=\"text-align: right;\">\n",
       "      <th></th>\n",
       "      <th>count</th>\n",
       "      <th>mean</th>\n",
       "      <th>std</th>\n",
       "      <th>min</th>\n",
       "      <th>25%</th>\n",
       "      <th>50%</th>\n",
       "      <th>75%</th>\n",
       "      <th>max</th>\n",
       "    </tr>\n",
       "  </thead>\n",
       "  <tbody>\n",
       "    <tr>\n",
       "      <th>trips_amount</th>\n",
       "      <td>64.0</td>\n",
       "      <td>2145.48</td>\n",
       "      <td>3812.31</td>\n",
       "      <td>2.0</td>\n",
       "      <td>20.75</td>\n",
       "      <td>178.5</td>\n",
       "      <td>2106.5</td>\n",
       "      <td>19558.0</td>\n",
       "    </tr>\n",
       "  </tbody>\n",
       "</table>\n",
       "</div>"
      ],
      "text/plain": [
       "              count     mean      std  min    25%    50%     75%      max\n",
       "trips_amount   64.0  2145.48  3812.31  2.0  20.75  178.5  2106.5  19558.0"
      ]
     },
     "execution_count": 29,
     "metadata": {},
     "output_type": "execute_result"
    }
   ],
   "source": [
    "# Revisamos un resumen de la información:\n",
    "df_r1.describe().T.round(2)"
   ]
  },
  {
   "cell_type": "markdown",
   "metadata": {},
   "source": [
    "Todo se ve correcto para este primer DF, no tenemos valores ausentes y el tipo de datos es apropiado."
   ]
  },
  {
   "cell_type": "code",
   "execution_count": 37,
   "metadata": {},
   "outputs": [
    {
     "data": {
      "image/png": "[encoded data removed]",
      "text/plain": [
       "<Figure size 1000x600 with 1 Axes>"
      ]
     },
     "metadata": {},
     "output_type": "display_data"
    }
   ],
   "source": [
    "# Realizamos un gráfico de barras para presentar la cantidad de viajes por empresa:\n",
    "top_diez_emp = df_r1.sort_values('trips_amount',ascending=False).head(10)\n",
    "\n",
    "top_diez_emp.plot(kind='bar',\n",
    "           x='company_name', y='trips_amount',\n",
    "           title='Total de viajes por empresa de Taxis.',\n",
    "           xlabel= 'Empresa',ylabel='Total de viajes',\n",
    "           rot=90, figsize=[10,6], legend=False)\n",
    "\n",
    "plt.show()"
   ]
  },
  {
   "cell_type": "markdown",
   "metadata": {},
   "source": [
    "#### Conclusión:"
   ]
  },
  {
   "cell_type": "markdown",
   "metadata": {},
   "source": [
    "De acuerdo con lo presentado en el gráfico anterior, se puede apreciar que más de la mitad de las empresas de taxis analizadas realizaron menos de 2500 viajes, incluso siendo menos de 500 para la mayoría, mientras que apenas son 8 las compañías que realizaron más de 7500 viajes siendo Flash Cab, por mucho, la empresa que más viajes realizó en total."
   ]
  },
  {
   "cell_type": "markdown",
   "metadata": {},
   "source": [
    "En base a lo anterior, pudiera ser sencillo catalogar a las empresas de taxis según el número total de viajes realizados para poder analizar cada subgrupo con menos sesgo."
   ]
  },
  {
   "cell_type": "markdown",
   "metadata": {},
   "source": [
    "Por otro lado, un mejor indicador del \"éxito\" de una empresa de taxis pudiera ser el número de viajes / número de unidades (taxis) con los que cuenta la empresa."
   ]
  },
  {
   "cell_type": "markdown",
   "metadata": {},
   "source": [
    "### Resultados 04: Viajes promedio por destino."
   ]
  },
  {
   "cell_type": "code",
   "execution_count": 23,
   "metadata": {},
   "outputs": [
    {
     "name": "stdout",
     "output_type": "stream",
     "text": [
      "<class 'pandas.core.frame.DataFrame'>\n",
      "RangeIndex: 94 entries, 0 to 93\n",
      "Data columns (total 2 columns):\n",
      " #   Column                 Non-Null Count  Dtype  \n",
      "---  ------                 --------------  -----  \n",
      " 0   dropoff_location_name  94 non-null     object \n",
      " 1   average_trips          94 non-null     float64\n",
      "dtypes: float64(1), object(1)\n",
      "memory usage: 1.6+ KB\n",
      "None\n"
     ]
    }
   ],
   "source": [
    "# Comenzamos revisando el DF, ya hemos hecho una previsualización antes:\n",
    "print(df_r4.info())"
   ]
  },
  {
   "cell_type": "markdown",
   "metadata": {},
   "source": [
    "Nuevamente, el tipo de dato coincide con lo esperado y no tenemos datos ausentes, por lo que podemos continuar."
   ]
  },
  {
   "cell_type": "code",
   "execution_count": 32,
   "metadata": {},
   "outputs": [
    {
     "name": "stdout",
     "output_type": "stream",
     "text": [
      "Se tienen 0 registros duplicados.\n",
      "Hay 94 colonias de destino.\n",
      "En total se realizaron 56395.65 viajes de taxi a los destinos.\n"
     ]
    }
   ],
   "source": [
    "# Buscamos registros duplicados:\n",
    "print(\"Se tienen\",df_r4.duplicated().sum(),\"registros duplicados.\")\n",
    "print(\"Hay\",df_r4['dropoff_location_name'].nunique(),\"colonias de destino.\")\n",
    "print(\"En total se realizaron\",format(df_r4['average_trips'].sum(),\".2f\"),\"viajes de taxi a los destinos.\")"
   ]
  },
  {
   "cell_type": "code",
   "execution_count": 33,
   "metadata": {},
   "outputs": [
    {
     "data": {
      "text/html": [
       "<div>\n",
       "<style scoped>\n",
       "    .dataframe tbody tr th:only-of-type {\n",
       "        vertical-align: middle;\n",
       "    }\n",
       "\n",
       "    .dataframe tbody tr th {\n",
       "        vertical-align: top;\n",
       "    }\n",
       "\n",
       "    .dataframe thead th {\n",
       "        text-align: right;\n",
       "    }\n",
       "</style>\n",
       "<table border=\"1\" class=\"dataframe\">\n",
       "  <thead>\n",
       "    <tr style=\"text-align: right;\">\n",
       "      <th></th>\n",
       "      <th>count</th>\n",
       "      <th>mean</th>\n",
       "      <th>std</th>\n",
       "      <th>min</th>\n",
       "      <th>25%</th>\n",
       "      <th>50%</th>\n",
       "      <th>75%</th>\n",
       "      <th>max</th>\n",
       "    </tr>\n",
       "  </thead>\n",
       "  <tbody>\n",
       "    <tr>\n",
       "      <th>average_trips</th>\n",
       "      <td>94.0</td>\n",
       "      <td>599.95</td>\n",
       "      <td>1714.59</td>\n",
       "      <td>1.8</td>\n",
       "      <td>14.27</td>\n",
       "      <td>52.02</td>\n",
       "      <td>298.86</td>\n",
       "      <td>10727.47</td>\n",
       "    </tr>\n",
       "  </tbody>\n",
       "</table>\n",
       "</div>"
      ],
      "text/plain": [
       "               count    mean      std  min    25%    50%     75%       max\n",
       "average_trips   94.0  599.95  1714.59  1.8  14.27  52.02  298.86  10727.47"
      ]
     },
     "execution_count": 33,
     "metadata": {},
     "output_type": "execute_result"
    }
   ],
   "source": [
    "# Un resumen de los datos:\n",
    "df_r4.describe().T.round(2)"
   ]
  },
  {
   "cell_type": "code",
   "execution_count": 36,
   "metadata": {},
   "outputs": [
    {
     "data": {
      "image/png": "[encoded data removed]",
      "text/plain": [
       "<Figure size 1000x600 with 1 Axes>"
      ]
     },
     "metadata": {},
     "output_type": "display_data"
    }
   ],
   "source": [
    "# Realizamos un gráfico de barras para presentar la cantidad de viajes promedio a cada destino para el top 10 de destinos:\n",
    "top_diez_dest = df_r4.sort_values('average_trips',ascending=False).head(10)\n",
    "\n",
    "top_diez_dest.plot(kind='bar',\n",
    "           x='dropoff_location_name', y='average_trips',\n",
    "           title='Top 10 destinos por cantidad de viajes promedio.',\n",
    "           xlabel= 'Colonia destino',ylabel='Promedio de viajes',\n",
    "           rot=90, figsize=[10,6], legend=False,\n",
    "           color='green')\n",
    "\n",
    "plt.show()"
   ]
  },
  {
   "cell_type": "markdown",
   "metadata": {},
   "source": [
    "#### Conclusión:"
   ]
  },
  {
   "cell_type": "markdown",
   "metadata": {},
   "source": [
    "Hemos identificado el top 10 de destinos más populares para los viajes en taxi, así mismo, podemos apreciar que todos ellos superan con crecer el percentil 75% de la información que es solo de 298.86 viajes por destino, con principal importancia los 4 destinos más populares que más del 60% de los viajes registrados."
   ]
  },
  {
   "cell_type": "markdown",
   "metadata": {},
   "source": [
    "Por último, según vimos en la primer etapa del proyecto, The Loop es una zona céntrica de Chigago y muy turística y O'Hare alberga el aeropuerto internacional, ambos destinos pertenecen al Top 5 de más populares."
   ]
  },
  {
   "cell_type": "markdown",
   "metadata": {},
   "source": [
    "### Resultados 07: Revisión de los viajes en días sábados desde el Loop hasta el aeropuerto internacional O'Hare:"
   ]
  },
  {
   "cell_type": "markdown",
   "metadata": {},
   "source": [
    "Para esta etapa, probaremos la hipótesis establecida: \"La duración promedio de los viajes desde el Loop hasta el Aeropuerto Internacional O'Hare cambia los sábados lluviosos\"."
   ]
  },
  {
   "cell_type": "markdown",
   "metadata": {},
   "source": [
    "Para poder comprobar o desmentir la hipótesis, dividiremos el dataframe en dos partes, la primera, con los días \"buenos (Good)\", la segunda con los \"lluviosos (Bad)\", en ambos casos, omitiremos las fechas ya que sabemos que siempre son sábados."
   ]
  },
  {
   "cell_type": "code",
   "execution_count": 48,
   "metadata": {},
   "outputs": [
    {
     "name": "stdout",
     "output_type": "stream",
     "text": [
      "Valor p: 6.738994326108734e-12\n",
      "Rechazamos la hipótesis nula. La duración promedio de los viajes desde The Loop hasta O'Hare no varía cuando hay lluvia.\n"
     ]
    }
   ],
   "source": [
    "# Dividimos el data frame en dos:\n",
    "df_good_days = df_r7['duration_seconds'][df_r7['weather_conditions']=='Good']\n",
    "df_bad_days = df_r7['duration_seconds'][df_r7['weather_conditions']=='Bad']\n",
    "\n",
    "# Establecemos un valor de relevancia del 5%:\n",
    "alpha = 0.05\n",
    "\n",
    "# Prueba de la hipótesis:\n",
    "prueba = st.ttest_ind(df_good_days,df_bad_days,equal_var=False)\n",
    "\n",
    "print('Valor p:', prueba.pvalue)\n",
    "\n",
    "if (prueba.pvalue < alpha):\n",
    "    print(\"Rechazamos la hipótesis nula. La duración promedio de los viajes desde The Loop hasta O'Hare no varía cuando hay lluvia.\")\n",
    "else:\n",
    "    print(\"No podemos rechazar la hipótesis nula. No es sencillo distinguir si en un sábado llovió o no según la duración de los viajes en taxi desde The Loop hasta O'Hare.\")"
   ]
  },
  {
   "cell_type": "markdown",
   "metadata": {},
   "source": [
    "#### Comprobación:"
   ]
  },
  {
   "cell_type": "code",
   "execution_count": 45,
   "metadata": {},
   "outputs": [
    {
     "data": {
      "text/html": [
       "<div>\n",
       "<style scoped>\n",
       "    .dataframe tbody tr th:only-of-type {\n",
       "        vertical-align: middle;\n",
       "    }\n",
       "\n",
       "    .dataframe tbody tr th {\n",
       "        vertical-align: top;\n",
       "    }\n",
       "\n",
       "    .dataframe thead th {\n",
       "        text-align: right;\n",
       "    }\n",
       "</style>\n",
       "<table border=\"1\" class=\"dataframe\">\n",
       "  <thead>\n",
       "    <tr style=\"text-align: right;\">\n",
       "      <th></th>\n",
       "      <th>duration_seconds</th>\n",
       "    </tr>\n",
       "    <tr>\n",
       "      <th>weather_conditions</th>\n",
       "      <th></th>\n",
       "    </tr>\n",
       "  </thead>\n",
       "  <tbody>\n",
       "    <tr>\n",
       "      <th>Bad</th>\n",
       "      <td>2427.205556</td>\n",
       "    </tr>\n",
       "    <tr>\n",
       "      <th>Good</th>\n",
       "      <td>1999.675676</td>\n",
       "    </tr>\n",
       "  </tbody>\n",
       "</table>\n",
       "</div>"
      ],
      "text/plain": [
       "                    duration_seconds\n",
       "weather_conditions                  \n",
       "Bad                      2427.205556\n",
       "Good                     1999.675676"
      ]
     },
     "execution_count": 45,
     "metadata": {},
     "output_type": "execute_result"
    }
   ],
   "source": [
    "df_r7[['weather_conditions','duration_seconds']].groupby('weather_conditions').mean()"
   ]
  },
  {
   "cell_type": "code",
   "execution_count": 57,
   "metadata": {},
   "outputs": [
    {
     "name": "stdout",
     "output_type": "stream",
     "text": [
      "Con buen clima:\n",
      "                   count     mean    std  min      25%     50%     75%     max\n",
      "duration_seconds  888.0  1999.68  759.2  0.0  1389.75  1800.0  2460.0  7440.0\n",
      "\n",
      "\n",
      "Con lluvia:\n",
      "                   count     mean     std    min     25%     50%     75%  \\\n",
      "duration_seconds  180.0  2427.21  721.31  480.0  1962.0  2540.0  2928.0   \n",
      "\n",
      "                     max  \n",
      "duration_seconds  4980.0  \n"
     ]
    }
   ],
   "source": [
    "print(\"Con buen clima:\\n\",df_r7[df_r7['weather_conditions']=='Good'].describe().T.round(2))\n",
    "\n",
    "print(\"\\n\")\n",
    "\n",
    "print(\"Con lluvia:\\n\",df_r7[df_r7['weather_conditions']=='Bad'].describe().T.round(2))"
   ]
  },
  {
   "cell_type": "markdown",
   "metadata": {},
   "source": [
    "#### Conclusión:"
   ]
  },
  {
   "cell_type": "markdown",
   "metadata": {},
   "source": [
    "Hemos establecido un nivel de significancia (alfa) de 5% para poder validar la hipótesis puesto una comprobación en este rango de confianza da más solidez a la conclusión, sin embargo, vemos que el valor de p es mucho más pequeño que eso, por lo cual podemos decir que las duraciones promedio de los viajes desde The Loop hasta O'Hare los días sábado no varía de forma significativa si hay lluvia o no."
   ]
  }
 ],
 "metadata": {
  "kernelspec": {
   "display_name": "Python 3",
   "language": "python",
   "name": "python3"
  },
  "language_info": {
   "codemirror_mode": {
    "name": "ipython",
    "version": 3
   },
   "file_extension": ".py",
   "mimetype": "text/x-python",
   "name": "python",
   "nbconvert_exporter": "python",
   "pygments_lexer": "ipython3",
   "version": "3.10.11"
  }
 },
 "nbformat": 4,
 "nbformat_minor": 2
}
